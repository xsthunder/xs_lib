{
 "cells": [
  {
   "cell_type": "code",
   "execution_count": 1,
   "metadata": {
    "ExecuteTime": {
     "end_time": "2020-03-24T16:23:14.798924Z",
     "start_time": "2020-03-24T16:23:14.661831Z"
    }
   },
   "outputs": [],
   "source": [
    "#export\n",
    "import sys\n",
    "if __name__ == '__main__': sys.path.append('..')\n",
    "import xs_lib.common as common"
   ]
  },
  {
   "cell_type": "code",
   "execution_count": 2,
   "metadata": {
    "ExecuteTime": {
     "end_time": "2020-03-24T16:23:14.822888Z",
     "start_time": "2020-03-24T16:23:14.801878Z"
    }
   },
   "outputs": [],
   "source": [
    "#export\n",
    "import operator\n",
    "class ConstraintDict(dict):\n",
    "    def __init__(self, arg1: dict or str or list, default_value=None):\n",
    "        \"\"\"\n",
    "        通过str, list来设定可选key列表，初始化为default_value\n",
    "        或者通过dict初始化，但不允许出现新的key\n",
    "        \"\"\"\n",
    "        if isinstance(arg1, dict): \n",
    "            self._names = set(arg1.keys())\n",
    "            super().__init__(arg1)\n",
    "            return\n",
    "        \n",
    "        if isinstance(arg1, str):\n",
    "            names = self.parse_names(arg1)\n",
    "        elif isinstance(arg1, list):\n",
    "            pass\n",
    "        else :\n",
    "            raise TypeError(f\"{type(arg1)} not allowed\")\n",
    "        self._names = set(names)\n",
    "        super().__init__(dict.fromkeys(names, default_value))\n",
    "        \n",
    "    def __setitem__(self, key, val):\n",
    "        assert key in self._names, f\"{key} not in {self._names}\"\n",
    "        super().__setitem__(key, val)\n",
    "        \n",
    "    @staticmethod\n",
    "    def parse_names(names: list or str):\n",
    "        if isinstance(names, list):return names\n",
    "        assert isinstance(names, str), f\"{type(names)} not valid\"\n",
    "        names = names.split(',')\n",
    "        names = map(lambda s:s.strip(), names)\n",
    "        names = filter(lambda x:len(x)>0, names)\n",
    "        names = list(names)\n",
    "        return names\n",
    "    \n",
    "    def update(self, d:dict):\n",
    "        _names = self._names \n",
    "        for k in d: assert k in _names , f\"key '{k}' not in {_names}\"\n",
    "        super().update(d)\n",
    "    \n",
    "    def subdict(self, names):\n",
    "        \"\"\"\n",
    "        names:list or str split by ','\n",
    "        继承self._names，但是用names代替self._names\n",
    "        \"\"\"\n",
    "        names = self.parse_names(names)\n",
    "        vals = self.gets(names) \n",
    "        new_dict = self.__class__(names)\n",
    "        new_dict.update(dict(names, vals))\n",
    "        return new_dict\n",
    "    \n",
    "    def gets(self, names: list or str):\n",
    "        \"\"\"\n",
    "        names:list or str split by ','\n",
    "        \"\"\"\n",
    "        names = self.parse_names(names)\n",
    "        vals = operator.itemgetter(*names)(self)\n",
    "        return vals\n"
   ]
  },
  {
   "cell_type": "code",
   "execution_count": 3,
   "metadata": {
    "ExecuteTime": {
     "end_time": "2020-03-24T16:23:14.920970Z",
     "start_time": "2020-03-24T16:23:14.826864Z"
    }
   },
   "outputs": [
    {
     "data": {
      "text/plain": [
       "True"
      ]
     },
     "execution_count": 3,
     "metadata": {},
     "output_type": "execute_result"
    }
   ],
   "source": [
    "#test_export\n",
    "import sure\n",
    "info = {\n",
    " 'address':1,\n",
    "    'port':2,\n",
    "}\n",
    "info =ConstraintDict(info)\n",
    "info.__setitem__.when.called_with('yes', 1).should.throw(Exception)\n",
    "info.gets(\"address, port \").should.eql((1,2))"
   ]
  },
  {
   "cell_type": "code",
   "execution_count": null,
   "metadata": {
    "ExecuteTime": {
     "start_time": "2020-03-24T16:23:14.675Z"
    }
   },
   "outputs": [
    {
     "data": {
      "application/javascript": [
       "IPython.notebook.save_checkpoint();"
      ],
      "text/plain": [
       "<IPython.core.display.Javascript object>"
      ]
     },
     "metadata": {},
     "output_type": "display_data"
    },
    {
     "name": "stdout",
     "output_type": "stream",
     "text": [
      "Converted ConstraintDict.ipynb to C:\\Users\\xiaos\\jupyter-ws\\git\\xsthunder-python-lib\\xs_lib\\ConstraintDict.py\n",
      "Converted ConstraintDict.ipynb to C:\\Users\\xiaos\\jupyter-ws\\git\\xsthunder-python-lib\\tests\\test_ConstraintDict.py\n"
     ]
    }
   ],
   "source": [
    "common.save_and_export_notebook('ConstraintDict')"
   ]
  }
 ],
 "metadata": {
  "kernelspec": {
   "display_name": "py3torch-cpu",
   "language": "python",
   "name": "py3torch-cpu"
  },
  "language_info": {
   "codemirror_mode": {
    "name": "ipython",
    "version": 3
   },
   "file_extension": ".py",
   "mimetype": "text/x-python",
   "name": "python",
   "nbconvert_exporter": "python",
   "pygments_lexer": "ipython3",
   "version": "3.7.6"
  }
 },
 "nbformat": 4,
 "nbformat_minor": 2
}

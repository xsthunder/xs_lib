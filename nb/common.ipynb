{
 "cells": [
  {
   "cell_type": "code",
   "execution_count": 1,
   "metadata": {
    "ExecuteTime": {
     "end_time": "2020-12-29T02:47:44.573580Z",
     "start_time": "2020-12-29T02:47:44.568691Z"
    }
   },
   "outputs": [],
   "source": [
    "#export\n",
    "import os\n",
    "IN_TRAVIS=(os.getenv('TRAVIS', False) == 'true')\n",
    "CLI_TEST=(os.getenv('CLI_TEST', False) == 'true')\n",
    "exp_dir_name = 'xs_lib'\n",
    "working_dir_tag = 'nb'"
   ]
  },
  {
   "cell_type": "code",
   "execution_count": 2,
   "metadata": {
    "ExecuteTime": {
     "end_time": "2020-12-29T02:47:44.593881Z",
     "start_time": "2020-12-29T02:47:44.575986Z"
    }
   },
   "outputs": [],
   "source": [
    "#export\n",
    "#https://stackoverflow.com/questions/15411967/how-can-i-check-if-code-is-executed-in-the-ipython-notebook\n",
    "def isnotebook():\n",
    "    try:\n",
    "        shell = get_ipython().__class__.__name__\n",
    "        if shell == 'ZMQInteractiveShell':\n",
    "            return True   # Jupyter notebook or qtconsole\n",
    "        elif shell == 'TerminalInteractiveShell':\n",
    "            return False  # Terminal running IPython\n",
    "        else:\n",
    "            return False  # Other type (?)\n",
    "    except NameError: \n",
    "        return False      # Probably standard Python interpreter\n",
    "IN_JUPYTER = isnotebook()"
   ]
  },
  {
   "cell_type": "code",
   "execution_count": 3,
   "metadata": {
    "ExecuteTime": {
     "end_time": "2020-12-29T02:47:44.601555Z",
     "start_time": "2020-12-29T02:47:44.597026Z"
    }
   },
   "outputs": [
    {
     "name": "stdout",
     "output_type": "stream",
     "text": [
      "False IN_TRAVIS\n",
      "True IN_JUPYTER \n",
      "False CLI_TEST \n"
     ]
    }
   ],
   "source": [
    "#test_export\n",
    "print(IN_TRAVIS,'IN_TRAVIS' )\n",
    "print(IN_JUPYTER , 'IN_JUPYTER ')\n",
    "print(CLI_TEST , 'CLI_TEST ')"
   ]
  },
  {
   "cell_type": "markdown",
   "metadata": {
    "heading_collapsed": true
   },
   "source": [
    "## util"
   ]
  },
  {
   "cell_type": "code",
   "execution_count": 4,
   "metadata": {
    "ExecuteTime": {
     "end_time": "2020-12-29T02:47:44.617424Z",
     "start_time": "2020-12-29T02:47:44.604412Z"
    },
    "hidden": true
   },
   "outputs": [],
   "source": [
    "#export\n",
    "class _simple_tqdm:\n",
    "    \"\"\"\n",
    "    for travis\n",
    "    \"\"\"\n",
    "    def __init__(self, g):\n",
    "        self.g = g\n",
    "        try:\n",
    "            l = len(g)\n",
    "        except TypeError:\n",
    "            l = '?'\n",
    "        self.l = l\n",
    "        \n",
    "    def __iter__(self):\n",
    "        for i,x in enumerate(self.g):\n",
    "            print(f\"({i}/{self.l})\", end='')\n",
    "            yield x\n",
    "            \n",
    "    def __len__(self):\n",
    "        return self.l\n",
    "try:\n",
    "    from tqdm.notebook import tqdm as notebook_tqdm\n",
    "    tqdm = notebook_tqdm\n",
    "except:\n",
    "    try:\n",
    "        from tqdm import _tqdm\n",
    "        tqdm = _tqdm.tqdm\n",
    "    except:\n",
    "        tqdm = _simple_tqdm\n",
    "    "
   ]
  },
  {
   "cell_type": "code",
   "execution_count": 5,
   "metadata": {
    "ExecuteTime": {
     "end_time": "2020-12-29T02:47:44.625125Z",
     "start_time": "2020-12-29T02:47:44.619355Z"
    },
    "hidden": true
   },
   "outputs": [
    {
     "name": "stderr",
     "output_type": "stream",
     "text": [
      "100%|██████████| 10/10 [00:00<00:00, 30727.50it/s]"
     ]
    },
    {
     "name": "stdout",
     "output_type": "stream",
     "text": [
      "(0/10)(1/10)(2/10)(3/10)(4/10)(5/10)(6/10)(7/10)(8/10)(9/10)"
     ]
    },
    {
     "name": "stderr",
     "output_type": "stream",
     "text": [
      "\n"
     ]
    }
   ],
   "source": [
    "#test_export\n",
    "for i in _simple_tqdm(range(10)):\n",
    "    pass\n",
    "for i in tqdm(range(10)):\n",
    "    pass"
   ]
  },
  {
   "cell_type": "markdown",
   "metadata": {},
   "source": [
    "## notebook"
   ]
  },
  {
   "cell_type": "code",
   "execution_count": 6,
   "metadata": {
    "ExecuteTime": {
     "end_time": "2020-12-29T02:47:44.630012Z",
     "start_time": "2020-12-29T02:47:44.627269Z"
    }
   },
   "outputs": [],
   "source": [
    "# export\n",
    "def ex_command(code):\n",
    "    ip = get_ipython()\n",
    "    # this depends on the environment where jupyter launchs\n",
    "    ip.run_cell(code)"
   ]
  },
  {
   "cell_type": "code",
   "execution_count": 7,
   "metadata": {
    "ExecuteTime": {
     "end_time": "2020-12-29T02:47:44.650006Z",
     "start_time": "2020-12-29T02:47:44.632469Z"
    }
   },
   "outputs": [],
   "source": [
    "#export\n",
    "# todo \n",
    "# 支持多级结构import, output，但可能不会用到\n",
    "import json,re\n",
    "from pathlib import Path\n",
    "import io\n",
    "import os\n",
    "import os.path\n",
    "\n",
    "class NBExporter:\n",
    "    def __init__(self, tag='export', prefix=''):\n",
    "        self.tag = tag\n",
    "        self.prefix = prefix\n",
    "        \n",
    "    def is_export(self, cell, ):\n",
    "        tag = self.tag\n",
    "        if cell['cell_type'] != 'code': return False\n",
    "        src = cell['source']\n",
    "        if len(src) == 0 or len(src[0]) < 7: return False\n",
    "        #import pdb; pdb.set_trace()\n",
    "        reg = f'^\\s*#\\s*{tag}\\s*$'\n",
    "        reg = re.compile(reg, re.IGNORECASE,)\n",
    "        return re.match(reg, src[0], ) is not None\n",
    "\n",
    "\n",
    "    def __call__(self, fname, to='../exp'):\n",
    "        \"Finds cells starting with `#export` and puts them into a new module\"\n",
    "        fname = Path(fname)\n",
    "        to = Path(to)\n",
    "        if(os.path.isdir(to)):\n",
    "            # overwrite the defulat filename\n",
    "            fname_out = f'{fname.stem.split(\".\")[0]}.py'\n",
    "            fname_out = f'{self.prefix}{fname_out}'\n",
    "            output_path = to/fname_out\n",
    "            \n",
    "        elif(to[-3:]==\".py\"):\n",
    "            output_path = to\n",
    "        else:\n",
    "            print(\"ERR a dir or a file ends with .py is needed\")\n",
    "            exit(1)\n",
    "            \n",
    "        if(os.path.exists(output_path)):print(f\"overwriting {output_path}\")\n",
    "            \n",
    "        main_dic = json.load(open(fname,'r',encoding=\"utf-8\"))\n",
    "        code_cells = [c for c in main_dic['cells'] if self.is_export(c)]\n",
    "        module = f'''#################################################\n",
    "### THIS FILE WAS AUTOGENERATED! DO NOT EDIT! ###\n",
    "#################################################\n",
    "# file to edit: ./nb/{fname.name}\n",
    "'''\n",
    "        \n",
    "#         import pdb; pdb.set_trace()\n",
    "        for cell in code_cells: module += ''.join(cell['source'][1:]) + '\\n\\n'\n",
    "        # remove trailing spaces\n",
    "        module = re.sub(r' +$', '', module, flags=re.MULTILINE)\n",
    "        \n",
    "        \n",
    "        with io.open(output_path, \"w\", encoding=\"utf-8\") as f:\n",
    "            f.write(module[:-2])\n",
    "        print(f\"Converted {fname} to {output_path}\")\n",
    "\n",
    "\n",
    "def cli_main(fname, dst='./'):\n",
    "    \"\"\"\n",
    "    fname: ipynb file to convert.\n",
    "    export both #test_export and #export cell if a dir is provided.\n",
    "    export #export only if a file is provided.\n",
    "    \"\"\"\n",
    "    assert fname[-6:]==\".ipynb\"\n",
    "\n",
    "    export_model = NBExporter()\n",
    "    export_test = NBExporter('(test_)?export', prefix='test_')\n",
    "    if(os.path.isdir(dst)):\n",
    "        export_model(fname, dst)\n",
    "        export_test(fname, dst)\n",
    "    else:\n",
    "        export_model(fname, dst)\n",
    "\n",
    "def fire_main():\n",
    "    import fire\n",
    "    fire.Fire(cli_main)\n",
    "    \n",
    "\n",
    "if __name__ == '__main__':\n",
    "    if CLI_TEST:\n",
    "        fire_main()\n",
    "    elif IN_JUPYTER or IN_TRAVIS:\n",
    "        pass\n",
    "    else:\n",
    "        fire_main()\n",
    "        \n",
    "class Export_notebook:\n",
    "    \"\"\"\n",
    "    export notebook in a project\n",
    "    \"\"\"\n",
    "    def __init__(self, dst, working_dir_tag = 'nb'):\n",
    "        self.export_model = NBExporter()\n",
    "        self.export_test = NBExporter('(test_)?export', prefix='test_')\n",
    "        self.dst = dst\n",
    "        self.working_dir_tag = working_dir_tag\n",
    "        \n",
    "    def sub_path(self, dst):\n",
    "        rv = lambda s:s[::-1] # revserse string\n",
    "        current = os.getcwd()\n",
    "        tag = self.working_dir_tag\n",
    "        assert tag in current, f\"{tag, current}\"\n",
    "        \n",
    "        current = rv(current)\n",
    "        dst = rv(dst)\n",
    "        tag = rv(tag)\n",
    "        current = current.replace(tag, dst, 1)\n",
    "        current = rv(current)\n",
    "        \n",
    "        return current\n",
    "        \n",
    "    def __call__(self, name,):\n",
    "        assert IN_JUPYTER\n",
    "        \n",
    "        save_notebook()\n",
    "        NOTEBOOK_EXTEND_NAME='.ipynb'\n",
    "        if NOTEBOOK_EXTEND_NAME not in name:\n",
    "            name += NOTEBOOK_EXTEND_NAME\n",
    "        time.sleep(1)\n",
    "        \n",
    "        test_path = self.sub_path('tests')\n",
    "        exp_path = self.sub_path(self.dst)\n",
    "\n",
    "        # support import complie\n",
    "        self.export_model(name, to=exp_path)\n",
    "        self.export_test(name, to=test_path)\n",
    "        \n",
    "        save_notebook() # for exitting\n",
    "\n"
   ]
  },
  {
   "cell_type": "code",
   "execution_count": 8,
   "metadata": {
    "ExecuteTime": {
     "end_time": "2020-12-29T02:47:44.656553Z",
     "start_time": "2020-12-29T02:47:44.652883Z"
    }
   },
   "outputs": [],
   "source": [
    "#export\n",
    "\n",
    "# use those only in jupyter\n",
    "import time\n",
    "\n",
    "def save_notebook(): \n",
    "    from IPython.display import display, Javascript\n",
    "    display(Javascript('IPython.notebook.save_checkpoint();'))\n",
    "\n",
    "def restart_kernel():\n",
    "    from IPython.display import display, Javascript\n",
    "    display(Javascript('IPython.notebook.kernel.restart();'))\n",
    "    \n",
    "save_and_export_notebook = Export_notebook(exp_dir_name, working_dir_tag = working_dir_tag )\n"
   ]
  },
  {
   "cell_type": "markdown",
   "metadata": {},
   "source": [
    "## linux command"
   ]
  },
  {
   "cell_type": "code",
   "execution_count": 9,
   "metadata": {
    "ExecuteTime": {
     "end_time": "2020-12-29T02:47:44.661898Z",
     "start_time": "2020-12-29T02:47:44.659417Z"
    }
   },
   "outputs": [],
   "source": [
    "def gpu_usage():\n",
    "    ex_command('nvidia-smi')"
   ]
  },
  {
   "cell_type": "markdown",
   "metadata": {},
   "source": [
    "## output"
   ]
  },
  {
   "cell_type": "code",
   "execution_count": null,
   "metadata": {
    "ExecuteTime": {
     "start_time": "2020-12-29T02:47:43.574Z"
    }
   },
   "outputs": [
    {
     "data": {
      "application/javascript": [
       "IPython.notebook.save_checkpoint();"
      ],
      "text/plain": [
       "<IPython.core.display.Javascript object>"
      ]
     },
     "metadata": {},
     "output_type": "display_data"
    },
    {
     "name": "stdout",
     "output_type": "stream",
     "text": [
      "overwriting /data/zengjianjun/jupyter-ws/git/xs_lib/xs_lib/common.py\n",
      "Converted common.ipynb to /data/zengjianjun/jupyter-ws/git/xs_lib/xs_lib/common.py\n",
      "overwriting /data/zengjianjun/jupyter-ws/git/xs_lib/tests/test_common.py\n",
      "Converted common.ipynb to /data/zengjianjun/jupyter-ws/git/xs_lib/tests/test_common.py\n"
     ]
    }
   ],
   "source": [
    "save_and_export_notebook('common')"
   ]
  },
  {
   "cell_type": "code",
   "execution_count": null,
   "metadata": {},
   "outputs": [],
   "source": []
  }
 ],
 "metadata": {
  "kernelspec": {
   "display_name": "Python 3",
   "language": "python",
   "name": "python3"
  },
  "language_info": {
   "codemirror_mode": {
    "name": "ipython",
    "version": 3
   },
   "file_extension": ".py",
   "mimetype": "text/x-python",
   "name": "python",
   "nbconvert_exporter": "python",
   "pygments_lexer": "ipython3",
   "version": "3.7.5"
  },
  "toc": {
   "base_numbering": 1,
   "nav_menu": {},
   "number_sections": true,
   "sideBar": true,
   "skip_h1_title": false,
   "title_cell": "Table of Contents",
   "title_sidebar": "Contents",
   "toc_cell": false,
   "toc_position": {},
   "toc_section_display": true,
   "toc_window_display": false
  },
  "varInspector": {
   "cols": {
    "lenName": 16,
    "lenType": 16,
    "lenVar": 40
   },
   "kernels_config": {
    "python": {
     "delete_cmd_postfix": "",
     "delete_cmd_prefix": "del ",
     "library": "var_list.py",
     "varRefreshCmd": "print(var_dic_list())"
    },
    "r": {
     "delete_cmd_postfix": ") ",
     "delete_cmd_prefix": "rm(",
     "library": "var_list.r",
     "varRefreshCmd": "cat(var_dic_list()) "
    }
   },
   "types_to_exclude": [
    "module",
    "function",
    "builtin_function_or_method",
    "instance",
    "_Feature"
   ],
   "window_display": false
  }
 },
 "nbformat": 4,
 "nbformat_minor": 2
}

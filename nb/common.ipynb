{
 "cells": [
  {
   "cell_type": "code",
   "execution_count": 1,
   "metadata": {
    "ExecuteTime": {
     "end_time": "2021-04-27T11:27:20.147062Z",
     "start_time": "2021-04-27T11:27:20.141026Z"
    }
   },
   "outputs": [],
   "source": [
    "#export\n",
    "from functools import partial\n",
    "import os\n",
    "exp_dir_name = 'xs_lib'\n",
    "working_dir_tag = 'nb'"
   ]
  },
  {
   "cell_type": "markdown",
   "metadata": {},
   "source": [
    "## os tool"
   ]
  },
  {
   "cell_type": "code",
   "execution_count": 2,
   "metadata": {
    "ExecuteTime": {
     "end_time": "2021-04-27T11:27:20.162392Z",
     "start_time": "2021-04-27T11:27:20.150301Z"
    }
   },
   "outputs": [],
   "source": [
    "#export\n",
    "def write_env_if_not_exists(env_name, value,):\n",
    "    \"\"\"\n",
    "    允许外部环境变量覆盖代码内的环境变量，特别是CUDA_VISIBLE_DEVICES\n",
    "    \"\"\"\n",
    "    if env_name not in os.environ or os.environ[env_name] == \"\":\n",
    "        print(f\"xsthunder write_env_if_not_exists: set env %s=%s\"%(env_name, value))\n",
    "        os.environ[env_name] = value\n",
    "    return os.environ[env_name]\n",
    "\n",
    "import subprocess\n",
    "from typing import List\n",
    "def system_call(l : List[str]):\n",
    "    \"\"\"\n",
    "    执行命令，打印并返回命令输出\n",
    "    \"\"\"\n",
    "    return subprocess.check_output(l).decode(\"utf-8\").strip()\n",
    "\n",
    "def print_system_call(l : List[str], print_console=True):\n",
    "    \"\"\"\n",
    "    执行命令，打印并返回命令输出\n",
    "    \"\"\"\n",
    "    s = system_call(l)\n",
    "    if print_console:  \n",
    "        print(\"print_system_call : \", ' '.join(l))\n",
    "        ss = s.split('\\n')\n",
    "        ss = list(map(lambda x:\"print_system_call: \"+x, ss))\n",
    "        print('\\n'.join(ss))\n",
    "    return s\n",
    "\n",
    "def print_cuda_version (print_console=True):\n",
    "    l = [\"nvcc\",  \"--version\"]\n",
    "    s = system_call(l)\n",
    "    s = s.split('\\n')[3]\n",
    "    if print_console:  \n",
    "        print(\"print_system_call: \", ' '.join(l))\n",
    "        print(\"print_system_call: \", s)\n",
    "    return s\n",
    "print_gpu_list = partial(print_system_call, [\"nvidia-smi\", \"-L\"])"
   ]
  },
  {
   "cell_type": "code",
   "execution_count": 3,
   "metadata": {
    "ExecuteTime": {
     "end_time": "2021-04-27T11:27:20.248181Z",
     "start_time": "2021-04-27T11:27:20.164821Z"
    }
   },
   "outputs": [
    {
     "name": "stdout",
     "output_type": "stream",
     "text": [
      "print_system_call:  nvcc --version\n",
      "print_system_call:  Cuda compilation tools, release 10.2, V10.2.89\n",
      "print_system_call :  nvidia-smi -L\n",
      "print_system_call: GPU 0: GeForce GTX 1080 Ti (UUID: GPU-8663229c-6572-4be3-2912-012e35430932)\n",
      "print_system_call: GPU 1: GeForce GTX 1080 Ti (UUID: GPU-bffe74ec-9eeb-feac-9de2-ce219ba0df57)\n",
      "print_system_call: GPU 2: GeForce GTX 1080 Ti (UUID: GPU-429c08dc-35c9-b391-0da0-e362ad537b5b)\n",
      "print_system_call: GPU 3: GeForce GTX 1080 Ti (UUID: GPU-eb17753c-00d2-d248-2cf7-8d1b3a52641f)\n"
     ]
    },
    {
     "data": {
      "text/plain": [
       "'GPU 0: GeForce GTX 1080 Ti (UUID: GPU-8663229c-6572-4be3-2912-012e35430932)\\nGPU 1: GeForce GTX 1080 Ti (UUID: GPU-bffe74ec-9eeb-feac-9de2-ce219ba0df57)\\nGPU 2: GeForce GTX 1080 Ti (UUID: GPU-429c08dc-35c9-b391-0da0-e362ad537b5b)\\nGPU 3: GeForce GTX 1080 Ti (UUID: GPU-eb17753c-00d2-d248-2cf7-8d1b3a52641f)'"
      ]
     },
     "execution_count": 3,
     "metadata": {},
     "output_type": "execute_result"
    }
   ],
   "source": [
    "print_cuda_version()\n",
    "print_gpu_list()"
   ]
  },
  {
   "cell_type": "markdown",
   "metadata": {},
   "source": [
    "## tell which env"
   ]
  },
  {
   "cell_type": "code",
   "execution_count": 4,
   "metadata": {
    "ExecuteTime": {
     "end_time": "2021-04-27T11:27:20.255236Z",
     "start_time": "2021-04-27T11:27:20.251253Z"
    }
   },
   "outputs": [],
   "source": [
    "#export\n",
    "#https://stackoverflow.com/questions/15411967/how-can-i-check-if-code-is-executed-in-the-ipython-notebook\n",
    "def isnotebook():\n",
    "    try:\n",
    "        shell = get_ipython().__class__.__name__\n",
    "        if shell == 'ZMQInteractiveShell':\n",
    "            return True   # Jupyter notebook or qtconsole\n",
    "        elif shell == 'TerminalInteractiveShell':\n",
    "            return False  # Terminal running IPython\n",
    "        else:\n",
    "            return False  # Other type (?)\n",
    "    except NameError: \n",
    "        return False      # Probably standard Python interpreter\n",
    "IN_JUPYTER = isnotebook()"
   ]
  },
  {
   "cell_type": "code",
   "execution_count": 5,
   "metadata": {
    "ExecuteTime": {
     "end_time": "2021-04-27T11:27:20.269467Z",
     "start_time": "2021-04-27T11:27:20.257406Z"
    }
   },
   "outputs": [],
   "source": [
    "#export\n",
    "IN_TRAVIS=(os.getenv('TRAVIS', False) == 'true')\n",
    "CLI_TEST=(os.getenv('CLI_TEST', False) == 'true')\n",
    "def read_env_var(env_name, current_value):\n",
    "    \"\"\"\n",
    "    从环境变量读值，覆盖代码内的值，如果是true, false，转换成布尔值\n",
    "    \"\"\"\n",
    "    if env_name not in os.environ:\n",
    "        return current_value\n",
    "    env_var = os.getenv(env_name)\n",
    "    p=partial(print, \"read_env_var:\")\n",
    "    p(f\"overwriting var by env {env_name} from {current_value} to {env_var}\")\n",
    "    if env_var == \"true\":\n",
    "        p(f\"convert true to bool True\")\n",
    "        env_var = True\n",
    "    if env_var == \"false\":\n",
    "        p(f\"convert false to bool False\")\n",
    "        env_var = False\n",
    "    return env_var\n",
    "    \n",
    "IN_TRAVIS=read_env_var(\"IN_TRAVIS\", IN_TRAVIS)\n",
    "IN_JUPYTER =read_env_var(\"IN_JUPYTER\", IN_JUPYTER)"
   ]
  },
  {
   "cell_type": "code",
   "execution_count": 6,
   "metadata": {
    "ExecuteTime": {
     "end_time": "2021-04-27T11:27:20.284159Z",
     "start_time": "2021-04-27T11:27:20.272135Z"
    }
   },
   "outputs": [
    {
     "name": "stdout",
     "output_type": "stream",
     "text": [
      "False IN_TRAVIS\n",
      "True IN_JUPYTER \n",
      "False CLI_TEST \n"
     ]
    }
   ],
   "source": [
    "#test_export\n",
    "import os\n",
    "print(IN_TRAVIS,'IN_TRAVIS' )\n",
    "print(IN_JUPYTER , 'IN_JUPYTER ')\n",
    "print(CLI_TEST , 'CLI_TEST ')"
   ]
  },
  {
   "cell_type": "markdown",
   "metadata": {
    "heading_collapsed": true
   },
   "source": [
    "## tqdm"
   ]
  },
  {
   "cell_type": "code",
   "execution_count": 7,
   "metadata": {
    "ExecuteTime": {
     "end_time": "2021-04-27T11:27:20.303410Z",
     "start_time": "2021-04-27T11:27:20.287995Z"
    },
    "hidden": true
   },
   "outputs": [],
   "source": [
    "#export\n",
    "class _simple_tqdm:\n",
    "    \"\"\"\n",
    "    for travis\n",
    "    \"\"\"\n",
    "    def __init__(self, g):\n",
    "        self.g = g\n",
    "        try:\n",
    "            l = len(g)\n",
    "        except TypeError:\n",
    "            l = '?'\n",
    "        self.l = l\n",
    "        \n",
    "    def __iter__(self):\n",
    "        for i,x in enumerate(self.g):\n",
    "            print(f\"({i}/{self.l})\", end='')\n",
    "            yield x\n",
    "            \n",
    "    def __len__(self):\n",
    "        return self.l\n",
    "try:\n",
    "    if IN_JUPYTER:\n",
    "        from tqdm.notebook import tqdm as notebook_tqdm\n",
    "        tqdm = notebook_tqdm\n",
    "    else :\n",
    "        from tqdm import _tqdm\n",
    "        tqdm = _tqdm.tqdm\n",
    "except:\n",
    "    tqdm = _simple_tqdm\n",
    "    "
   ]
  },
  {
   "cell_type": "code",
   "execution_count": 8,
   "metadata": {
    "ExecuteTime": {
     "end_time": "2021-04-27T11:27:20.313215Z",
     "start_time": "2021-04-27T11:27:20.306831Z"
    },
    "hidden": true
   },
   "outputs": [
    {
     "name": "stdout",
     "output_type": "stream",
     "text": [
      "(0/10)(1/10)(2/10)(3/10)(4/10)(5/10)(6/10)(7/10)(8/10)(9/10)(0/10)(1/10)(2/10)(3/10)(4/10)(5/10)(6/10)(7/10)(8/10)(9/10)"
     ]
    }
   ],
   "source": [
    "#test_export\n",
    "for i in _simple_tqdm(range(10)):\n",
    "    pass\n",
    "for i in tqdm(range(10)):\n",
    "    pass"
   ]
  },
  {
   "cell_type": "markdown",
   "metadata": {
    "heading_collapsed": true
   },
   "source": [
    "## notebook"
   ]
  },
  {
   "cell_type": "code",
   "execution_count": 9,
   "metadata": {
    "ExecuteTime": {
     "end_time": "2021-04-27T11:27:20.323182Z",
     "start_time": "2021-04-27T11:27:20.316418Z"
    },
    "hidden": true
   },
   "outputs": [],
   "source": [
    "# export\n",
    "def ex_sh_cmd(code):\n",
    "    ip = get_ipython()\n",
    "    # this depends on the environment where jupyter launchs\n",
    "    ip.run_cell(code)"
   ]
  },
  {
   "cell_type": "code",
   "execution_count": 10,
   "metadata": {
    "ExecuteTime": {
     "end_time": "2021-04-27T11:27:20.346018Z",
     "start_time": "2021-04-27T11:27:20.326167Z"
    },
    "hidden": true
   },
   "outputs": [],
   "source": [
    "#export\n",
    "# todo \n",
    "# 支持多级结构import, output，但可能不会用到\n",
    "import json,re\n",
    "from pathlib import Path\n",
    "import io\n",
    "import os\n",
    "import os.path\n",
    "\n",
    "class NBExporter:\n",
    "    \"\"\"\n",
    "    single notebook exporter\n",
    "    \"\"\"\n",
    "    def __init__(self, tag='export', prefix=''):\n",
    "        self.tag = tag\n",
    "        self.prefix = prefix\n",
    "        \n",
    "    def is_export(self, cell, ):\n",
    "        tag = self.tag\n",
    "        if cell['cell_type'] != 'code': return False\n",
    "        src = cell['source']\n",
    "        if len(src) == 0 or len(src[0]) < 7: return False\n",
    "        #import pdb; pdb.set_trace()\n",
    "        reg = f'^\\s*#\\s*{tag}\\s*$'\n",
    "        reg = re.compile(reg, re.IGNORECASE,)\n",
    "        return re.match(reg, src[0], ) is not None\n",
    "\n",
    "\n",
    "    def __call__(self, fname, to='../exp'):\n",
    "        \"Finds cells starting with `#export` and puts them into a new module\"\n",
    "        fname = Path(fname)\n",
    "        to = Path(to)\n",
    "        if(os.path.isdir(to)):\n",
    "            # overwrite the defulat filename\n",
    "            fname_out = f'{fname.stem.split(\".\")[0]}.py'\n",
    "            fname_out = f'{self.prefix}{fname_out}'\n",
    "            output_path = to/fname_out\n",
    "            \n",
    "        elif(str(to.absolute())[-3:]==\".py\"):\n",
    "            output_path = to\n",
    "        else:\n",
    "            print(\"ERR a dir or a file ends with .py is needed\")\n",
    "            exit(1)\n",
    "            \n",
    "        if(os.path.exists(output_path)):print(f\"overwriting {output_path}\")\n",
    "            \n",
    "        main_dic = json.load(open(fname,'r',encoding=\"utf-8\"))\n",
    "        code_cells = [c for c in main_dic['cells'] if self.is_export(c)]\n",
    "        module = f'''#################################################\n",
    "### THIS FILE WAS AUTOGENERATED! DO NOT EDIT! ###\n",
    "#################################################\n",
    "# file to edit: ./nb/{fname.name}\n",
    "'''\n",
    "        \n",
    "#         import pdb; pdb.set_trace()\n",
    "        for cell in code_cells: module += ''.join(cell['source'][1:]) + '\\n\\n'\n",
    "        # remove trailing spaces\n",
    "        module = re.sub(r' +$', '', module, flags=re.MULTILINE)\n",
    "        \n",
    "        \n",
    "        with io.open(output_path, \"w\", encoding=\"utf-8\") as f:\n",
    "            f.write(module[:-2])\n",
    "        print(f\"Converted {fname} to {output_path}\")\n",
    "\n",
    "\n",
    "        \n",
    "class Export_notebook:\n",
    "    \"\"\"\n",
    "    export notebook in a project\n",
    "    \"\"\"\n",
    "    def __init__(self, dst, working_dir_tag = 'nb'):\n",
    "        self.export_model = NBExporter()\n",
    "        self.export_test = NBExporter('(test_)?export', prefix='test_')\n",
    "        self.dst = dst\n",
    "        self.working_dir_tag = working_dir_tag\n",
    "        \n",
    "    def sub_path(self, dst):\n",
    "        rv = lambda s:s[::-1] # revserse string\n",
    "        current = os.getcwd()\n",
    "        tag = self.working_dir_tag\n",
    "        assert tag in current, f\"{tag, current}\"\n",
    "        \n",
    "        current = rv(current)\n",
    "        dst = rv(dst)\n",
    "        tag = rv(tag)\n",
    "        current = current.replace(tag, dst, 1)\n",
    "        current = rv(current)\n",
    "        \n",
    "        return current\n",
    "        \n",
    "    def __call__(self, name,):\n",
    "        assert IN_JUPYTER\n",
    "        \n",
    "        save_notebook()\n",
    "        NOTEBOOK_EXTEND_NAME='.ipynb'\n",
    "        if NOTEBOOK_EXTEND_NAME not in name:\n",
    "            name += NOTEBOOK_EXTEND_NAME\n",
    "        time.sleep(1)\n",
    "        \n",
    "        test_path = self.sub_path('tests')\n",
    "        exp_path = self.sub_path(self.dst)\n",
    "\n",
    "        # support import complie\n",
    "        self.export_model(name, to=exp_path)\n",
    "        self.export_test(name, to=test_path)\n",
    "        \n",
    "        save_notebook() # for exitting\n",
    "\n"
   ]
  },
  {
   "cell_type": "code",
   "execution_count": 11,
   "metadata": {
    "ExecuteTime": {
     "end_time": "2021-04-27T11:27:20.357586Z",
     "start_time": "2021-04-27T11:27:20.348873Z"
    },
    "hidden": true
   },
   "outputs": [],
   "source": [
    "#export\n",
    "\n",
    "# use those only in jupyter\n",
    "import time\n",
    "\n",
    "def save_notebook(): \n",
    "    ex_js_cmd('IPython.notebook.save_checkpoint();')\n",
    "\n",
    "def restart_kernel():\n",
    "    ex_js_cmd('IPython.notebook.kernel.restart();')\n",
    "    \n",
    "def kill_kernel():\n",
    "    ex_js_cmd('IPython.notebook.kernel.kill();')\n",
    "    \n",
    "def ex_js_cmd(cmd):\n",
    "    from IPython.display import display, Javascript\n",
    "    display(Javascript(cmd))\n",
    "    \n",
    "save_and_export_notebook = Export_notebook(exp_dir_name, working_dir_tag = working_dir_tag )\n"
   ]
  },
  {
   "cell_type": "markdown",
   "metadata": {
    "heading_collapsed": true
   },
   "source": [
    "## cli interface"
   ]
  },
  {
   "cell_type": "code",
   "execution_count": 12,
   "metadata": {
    "ExecuteTime": {
     "end_time": "2021-04-27T11:27:20.374633Z",
     "start_time": "2021-04-27T11:27:20.360187Z"
    },
    "hidden": true
   },
   "outputs": [],
   "source": [
    "#export\n",
    "def cli_main(fname, dst='./'):\n",
    "    \"\"\"\n",
    "    cli interface to convert ipynb to py\n",
    "    \n",
    "    Examples:\n",
    "        nb2py ./nb/common.ipynb ./ # export to ./common.py and ./test_common.py\n",
    "        nb2py ./nb/common.ipynb ./common.export.test.py # export #export tag only\n",
    "    Argument:\n",
    "        fname: required. ipynb file to convert.\n",
    "        dst: default to `./`. where to put the exported py file.  export both #test_export and #export cell if a dir is provided. export #export only if a file is provided.\n",
    "    \"\"\"\n",
    "    assert fname[-6:]==\".ipynb\"\n",
    "\n",
    "    export_model = NBExporter()\n",
    "    export_test = NBExporter('(test_)?export', prefix='test_')\n",
    "    if(os.path.isdir(dst)):\n",
    "        export_model(fname, dst)\n",
    "        export_test(fname, dst)\n",
    "    else:\n",
    "        export_model(fname, dst)\n",
    "\n",
    "def fire_main():\n",
    "    import fire\n",
    "    fire.Fire(cli_main)\n",
    "    \n",
    "\n",
    "if __name__ == '__main__':\n",
    "    if CLI_TEST:\n",
    "        fire_main()\n",
    "    elif IN_JUPYTER or IN_TRAVIS:\n",
    "        pass\n",
    "    else:\n",
    "        fire_main()"
   ]
  },
  {
   "cell_type": "markdown",
   "metadata": {
    "heading_collapsed": true
   },
   "source": [
    "## linux command"
   ]
  },
  {
   "cell_type": "code",
   "execution_count": 13,
   "metadata": {
    "ExecuteTime": {
     "end_time": "2021-04-27T11:27:20.386998Z",
     "start_time": "2021-04-27T11:27:20.377438Z"
    },
    "hidden": true
   },
   "outputs": [],
   "source": [
    "def gpu_usage():\n",
    "    ex_command('nvidia-smi')"
   ]
  },
  {
   "cell_type": "markdown",
   "metadata": {},
   "source": [
    "## output"
   ]
  },
  {
   "cell_type": "code",
   "execution_count": null,
   "metadata": {
    "ExecuteTime": {
     "start_time": "2021-04-27T11:27:20.197Z"
    }
   },
   "outputs": [
    {
     "data": {
      "application/javascript": [
       "IPython.notebook.save_checkpoint();"
      ],
      "text/plain": [
       "<IPython.core.display.Javascript object>"
      ]
     },
     "metadata": {},
     "output_type": "display_data"
    },
    {
     "name": "stdout",
     "output_type": "stream",
     "text": [
      "overwriting /data/zengjianjun/jupyter-ws/git/xs_lib/xs_lib/common.py\n",
      "Converted common.ipynb to /data/zengjianjun/jupyter-ws/git/xs_lib/xs_lib/common.py\n",
      "overwriting /data/zengjianjun/jupyter-ws/git/xs_lib/tests/test_common.py\n",
      "Converted common.ipynb to /data/zengjianjun/jupyter-ws/git/xs_lib/tests/test_common.py\n"
     ]
    }
   ],
   "source": [
    "save_and_export_notebook('common')"
   ]
  },
  {
   "cell_type": "code",
   "execution_count": null,
   "metadata": {},
   "outputs": [],
   "source": []
  }
 ],
 "metadata": {
  "kernelspec": {
   "display_name": "Python 3",
   "language": "python",
   "name": "python3"
  },
  "language_info": {
   "codemirror_mode": {
    "name": "ipython",
    "version": 3
   },
   "file_extension": ".py",
   "mimetype": "text/x-python",
   "name": "python",
   "nbconvert_exporter": "python",
   "pygments_lexer": "ipython3",
   "version": "3.6.5"
  },
  "toc": {
   "base_numbering": 1,
   "nav_menu": {},
   "number_sections": true,
   "sideBar": true,
   "skip_h1_title": false,
   "title_cell": "Table of Contents",
   "title_sidebar": "Contents",
   "toc_cell": false,
   "toc_position": {},
   "toc_section_display": true,
   "toc_window_display": false
  },
  "varInspector": {
   "cols": {
    "lenName": 16,
    "lenType": 16,
    "lenVar": 40
   },
   "kernels_config": {
    "python": {
     "delete_cmd_postfix": "",
     "delete_cmd_prefix": "del ",
     "library": "var_list.py",
     "varRefreshCmd": "print(var_dic_list())"
    },
    "r": {
     "delete_cmd_postfix": ") ",
     "delete_cmd_prefix": "rm(",
     "library": "var_list.r",
     "varRefreshCmd": "cat(var_dic_list()) "
    }
   },
   "types_to_exclude": [
    "module",
    "function",
    "builtin_function_or_method",
    "instance",
    "_Feature"
   ],
   "window_display": false
  }
 },
 "nbformat": 4,
 "nbformat_minor": 2
}

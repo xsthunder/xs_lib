{
 "cells": [
  {
   "cell_type": "code",
   "execution_count": 1,
   "metadata": {
    "ExecuteTime": {
     "end_time": "2020-03-24T08:47:40.988221Z",
     "start_time": "2020-03-24T08:47:40.983224Z"
    }
   },
   "outputs": [],
   "source": [
    "#export\n",
    "import os\n",
    "IN_TRAVIS=(os.getenv('TRAVIS', False) == 'true')\n",
    "exp_dir_name = 'x_lib'\n",
    "working_dir_tag = 'nb'"
   ]
  },
  {
   "cell_type": "code",
   "execution_count": 2,
   "metadata": {
    "ExecuteTime": {
     "end_time": "2020-03-24T08:47:41.004214Z",
     "start_time": "2020-03-24T08:47:40.995220Z"
    }
   },
   "outputs": [],
   "source": [
    "#export\n",
    "#https://stackoverflow.com/questions/15411967/how-can-i-check-if-code-is-executed-in-the-ipython-notebook\n",
    "def isnotebook():\n",
    "    try:\n",
    "        shell = get_ipython().__class__.__name__\n",
    "        if shell == 'ZMQInteractiveShell':\n",
    "            return True   # Jupyter notebook or qtconsole\n",
    "        elif shell == 'TerminalInteractiveShell':\n",
    "            return False  # Terminal running IPython\n",
    "        else:\n",
    "            return False  # Other type (?)\n",
    "    except NameError: \n",
    "        return False      # Probably standard Python interpreter\n",
    "IN_JUPYTER = isnotebook()"
   ]
  },
  {
   "cell_type": "code",
   "execution_count": 3,
   "metadata": {
    "ExecuteTime": {
     "end_time": "2020-03-24T08:47:41.035216Z",
     "start_time": "2020-03-24T08:47:41.007210Z"
    }
   },
   "outputs": [
    {
     "name": "stdout",
     "output_type": "stream",
     "text": [
      "False IN_TRAVIS\n",
      "True IN_JUPYTER \n"
     ]
    }
   ],
   "source": [
    "#test_export\n",
    "print(IN_TRAVIS,'IN_TRAVIS' )\n",
    "print( IN_JUPYTER , 'IN_JUPYTER ')"
   ]
  },
  {
   "cell_type": "markdown",
   "metadata": {
    "heading_collapsed": true
   },
   "source": [
    "## util"
   ]
  },
  {
   "cell_type": "code",
   "execution_count": 4,
   "metadata": {
    "ExecuteTime": {
     "end_time": "2020-03-24T08:47:41.186204Z",
     "start_time": "2020-03-24T08:47:41.039191Z"
    },
    "hidden": true
   },
   "outputs": [],
   "source": [
    "#export\n",
    "class _simple_tqdm:\n",
    "    \"\"\"\n",
    "    for travis\n",
    "    \"\"\"\n",
    "    def __init__(self, g):\n",
    "        self.g = g\n",
    "        try:\n",
    "            l = len(g)\n",
    "        except TypeError:\n",
    "            l = '?'\n",
    "        self.l = l\n",
    "        \n",
    "    def __iter__(self):\n",
    "        for i,x in enumerate(self.g):\n",
    "            print(f\"({i}/{self.l})\", end='')\n",
    "            yield x\n",
    "            \n",
    "    def __len__(self):\n",
    "        return self.l\n",
    "        \n",
    "if IN_JUPYTER:\n",
    "    from tqdm.notebook import tqdm as notebook_tqdm\n",
    "    tqdm = notebook_tqdm\n",
    "elif IN_TRAVIS:\n",
    "    tqdm = _simple_tqdm\n",
    "else :\n",
    "    tqdm = _tqdm.tqdm"
   ]
  },
  {
   "cell_type": "code",
   "execution_count": 5,
   "metadata": {
    "ExecuteTime": {
     "end_time": "2020-03-24T08:47:41.289138Z",
     "start_time": "2020-03-24T08:47:41.190195Z"
    },
    "hidden": true
   },
   "outputs": [
    {
     "name": "stdout",
     "output_type": "stream",
     "text": [
      "(0/10)0\n",
      "(1/10)1\n",
      "(2/10)2\n",
      "(3/10)3\n",
      "(4/10)4\n",
      "(5/10)5\n",
      "(6/10)6\n",
      "(7/10)7\n",
      "(8/10)8\n",
      "(9/10)9\n"
     ]
    },
    {
     "data": {
      "application/vnd.jupyter.widget-view+json": {
       "model_id": "026f9da58d394791928859af838018e9",
       "version_major": 2,
       "version_minor": 0
      },
      "text/plain": [
       "HBox(children=(FloatProgress(value=0.0, max=10.0), HTML(value='')))"
      ]
     },
     "metadata": {},
     "output_type": "display_data"
    },
    {
     "name": "stdout",
     "output_type": "stream",
     "text": [
      "\n"
     ]
    }
   ],
   "source": [
    "#test_export\n",
    "for i in _simple_tqdm(range(10)):\n",
    "    print(i)\n",
    "for i in tqdm(range(10)):\n",
    "    pass"
   ]
  },
  {
   "cell_type": "markdown",
   "metadata": {
    "heading_collapsed": true
   },
   "source": [
    "## notebook"
   ]
  },
  {
   "cell_type": "code",
   "execution_count": 6,
   "metadata": {
    "ExecuteTime": {
     "end_time": "2020-03-24T08:47:41.299133Z",
     "start_time": "2020-03-24T08:47:41.293137Z"
    },
    "hidden": true
   },
   "outputs": [],
   "source": [
    "# export\n",
    "def ex_command(code):\n",
    "    ip = get_ipython()\n",
    "    # this depends on the environment where jupyter launchs\n",
    "    ip.run_cell(code)"
   ]
  },
  {
   "cell_type": "code",
   "execution_count": 7,
   "metadata": {
    "ExecuteTime": {
     "end_time": "2020-03-24T08:47:41.342110Z",
     "start_time": "2020-03-24T08:47:41.305130Z"
    },
    "hidden": true
   },
   "outputs": [],
   "source": [
    "#export\n",
    "# todo \n",
    "# 支持多级结构import, output，但可能不会用到\n",
    "import json,re\n",
    "from pathlib import Path\n",
    "import io\n",
    "import os\n",
    "\n",
    "class NBExporter:\n",
    "    def __init__(self, tag='export', prefix=''):\n",
    "        self.tag = tag\n",
    "        self.prefix = prefix\n",
    "        \n",
    "    def is_export(self, cell, ):\n",
    "        tag = self.tag\n",
    "        if cell['cell_type'] != 'code': return False\n",
    "        src = cell['source']\n",
    "        if len(src) == 0 or len(src[0]) < 7: return False\n",
    "        #import pdb; pdb.set_trace()\n",
    "        reg = f'^\\s*#\\s*{tag}\\s*$'\n",
    "        reg = re.compile(reg, re.IGNORECASE,)\n",
    "        return re.match(reg, src[0], ) is not None\n",
    "\n",
    "\n",
    "    def __call__(self, fname, to='../exp'):\n",
    "        \"Finds cells starting with `#export` and puts them into a new module\"\n",
    "        fname = Path(fname)\n",
    "        to = Path(to)\n",
    "        fname_out = f'{fname.stem.split(\".\")[0]}.py'\n",
    "        fname_out = f'{self.prefix}{fname_out}'\n",
    "        main_dic = json.load(open(fname,'r',encoding=\"utf-8\"))\n",
    "        code_cells = [c for c in main_dic['cells'] if self.is_export(c)]\n",
    "        module = f'''#################################################\n",
    "### THIS FILE WAS AUTOGENERATED! DO NOT EDIT! ###\n",
    "#################################################\n",
    "# file to edit: ./nb/{fname.name}\n",
    "'''\n",
    "        \n",
    "#         import pdb; pdb.set_trace()\n",
    "        for cell in code_cells: module += ''.join(cell['source'][1:]) + '\\n\\n'\n",
    "        # remove trailing spaces\n",
    "        module = re.sub(r' +$', '', module, flags=re.MULTILINE)\n",
    "        output_path = to/fname_out\n",
    "        \n",
    "        with io.open(output_path, \"w\", encoding=\"utf-8\") as f:\n",
    "            f.write(module[:-2])\n",
    "        print(f\"Converted {fname} to {output_path}\")\n",
    "        \n",
    "class Export_notebook:\n",
    "    \n",
    "    def __init__(self, dst, working_dir_tag = 'nb'):\n",
    "        self.export_model = NBExporter()\n",
    "        self.export_test = NBExporter('(test_)?export', prefix='test_')\n",
    "        self.dst = dst\n",
    "        self.working_dir_tag = working_dir_tag\n",
    "        \n",
    "    def sub_path(self, dst):\n",
    "        rv = lambda s:s[::-1] # revserse string\n",
    "        current = os.getcwd()\n",
    "        tag = self.working_dir_tag\n",
    "        assert tag in current, f\"{tag, current}\"\n",
    "        \n",
    "        current = rv(current)\n",
    "        dst = rv(dst)\n",
    "        tag = rv(tag)\n",
    "        current = current.replace(tag, dst, 1)\n",
    "        current = rv(current)\n",
    "        \n",
    "        return current\n",
    "        \n",
    "    def __call__(self, name,):\n",
    "        assert IN_JUPYTER\n",
    "        \n",
    "        save_notebook()\n",
    "        NOTEBOOK_EXTEND_NAME='.ipynb'\n",
    "        if NOTEBOOK_EXTEND_NAME not in name:\n",
    "            name += NOTEBOOK_EXTEND_NAME\n",
    "        time.sleep(1)\n",
    "        \n",
    "        test_path = self.sub_path('tests')\n",
    "        exp_path = self.sub_path(self.dst)\n",
    "\n",
    "        # support import complie\n",
    "        self.export_model(name, to=exp_path)\n",
    "        self.export_test(name, to=test_path)\n",
    "        \n",
    "        save_notebook() # for exitting\n",
    "    "
   ]
  },
  {
   "cell_type": "code",
   "execution_count": 8,
   "metadata": {
    "ExecuteTime": {
     "end_time": "2020-03-24T08:47:41.355101Z",
     "start_time": "2020-03-24T08:47:41.346106Z"
    },
    "hidden": true
   },
   "outputs": [],
   "source": [
    "#export\n",
    "\n",
    "# use those only in jupyter\n",
    "import time\n",
    "\n",
    "def save_notebook(): \n",
    "    from IPython.display import display, Javascript\n",
    "    display(Javascript('IPython.notebook.save_checkpoint();'))\n",
    "\n",
    "def restart_kernel():\n",
    "    from IPython.display import display, Javascript\n",
    "    display(Javascript('IPython.notebook.kernel.restart();'))\n",
    "    \n",
    "save_and_export_notebook = Export_notebook(exp_dir_name, working_dir_tag = working_dir_tag )\n"
   ]
  },
  {
   "cell_type": "markdown",
   "metadata": {
    "heading_collapsed": true
   },
   "source": [
    "## linux command"
   ]
  },
  {
   "cell_type": "code",
   "execution_count": 9,
   "metadata": {
    "ExecuteTime": {
     "end_time": "2020-03-24T08:47:41.375089Z",
     "start_time": "2020-03-24T08:47:41.365094Z"
    },
    "hidden": true
   },
   "outputs": [],
   "source": [
    "def gpu_usage():\n",
    "    ex_command('nvidia-smi')"
   ]
  },
  {
   "cell_type": "markdown",
   "metadata": {},
   "source": [
    "## output"
   ]
  },
  {
   "cell_type": "code",
   "execution_count": null,
   "metadata": {
    "ExecuteTime": {
     "start_time": "2020-03-24T08:47:41.023Z"
    }
   },
   "outputs": [
    {
     "data": {
      "application/javascript": [
       "IPython.notebook.save_checkpoint();"
      ],
      "text/plain": [
       "<IPython.core.display.Javascript object>"
      ]
     },
     "metadata": {},
     "output_type": "display_data"
    },
    {
     "name": "stdout",
     "output_type": "stream",
     "text": [
      "Converted common.ipynb to C:\\Users\\xiaos\\jupyter-ws\\git\\xsthunder-python-lib\\x_lib\\common.py\n",
      "Converted common.ipynb to C:\\Users\\xiaos\\jupyter-ws\\git\\xsthunder-python-lib\\tests\\test_common.py\n"
     ]
    }
   ],
   "source": [
    "save_and_export_notebook('common')"
   ]
  }
 ],
 "metadata": {
  "kernelspec": {
   "display_name": "py3torch-cpu",
   "language": "python",
   "name": "py3torch-cpu"
  },
  "language_info": {
   "codemirror_mode": {
    "name": "ipython",
    "version": 3
   },
   "file_extension": ".py",
   "mimetype": "text/x-python",
   "name": "python",
   "nbconvert_exporter": "python",
   "pygments_lexer": "ipython3",
   "version": "3.7.6"
  }
 },
 "nbformat": 4,
 "nbformat_minor": 2
}

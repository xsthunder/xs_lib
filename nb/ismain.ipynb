{
 "cells": [
  {
   "cell_type": "code",
   "execution_count": 1,
   "metadata": {
    "ExecuteTime": {
     "end_time": "2020-12-30T03:14:22.646823Z",
     "start_time": "2020-12-30T03:14:22.635162Z"
    }
   },
   "outputs": [],
   "source": [
    "#export\n",
    "import sys\n",
    "if __name__ == '__main__': sys.path.append('..')\n",
    "import xs_lib.common as common"
   ]
  },
  {
   "cell_type": "code",
   "execution_count": 2,
   "metadata": {
    "ExecuteTime": {
     "end_time": "2020-12-30T03:14:22.652338Z",
     "start_time": "2020-12-30T03:14:22.648878Z"
    }
   },
   "outputs": [],
   "source": [
    "#export\n",
    "def ismain(name):\n",
    "    \"\"\"\n",
    "    test __name__==\"__main__\"\n",
    "    name: pass in __main__\n",
    "    \"\"\"\n",
    "    return name==\"__main__\"\n",
    "\n",
    "def main(name, fn):\n",
    "    \"\"\"\n",
    "    if test __name__==\"__main__\", run fn()\n",
    "    name: pass in __main__\n",
    "    \"\"\"\n",
    "    b = ismain(name)\n",
    "    if(b):\n",
    "        fn()\n",
    "    return b"
   ]
  },
  {
   "cell_type": "code",
   "execution_count": 3,
   "metadata": {
    "ExecuteTime": {
     "end_time": "2020-12-30T03:14:22.685957Z",
     "start_time": "2020-12-30T03:14:22.654474Z"
    }
   },
   "outputs": [
    {
     "name": "stdout",
     "output_type": "stream",
     "text": [
      "should output\n"
     ]
    },
    {
     "data": {
      "text/plain": [
       "True"
      ]
     },
     "execution_count": 3,
     "metadata": {},
     "output_type": "execute_result"
    }
   ],
   "source": [
    "#test_export\n",
    "import sure\n",
    "ismain(__name__).should.be(True)\n",
    "ismain(\"\").should.be(False)\n",
    "def output():print(\"should output\")\n",
    "main(__name__, output).should.be(True)\n",
    "main(\"\", output).should.be(False)"
   ]
  },
  {
   "cell_type": "code",
   "execution_count": null,
   "metadata": {
    "ExecuteTime": {
     "start_time": "2020-12-30T03:14:22.748Z"
    }
   },
   "outputs": [
    {
     "data": {
      "application/javascript": [
       "IPython.notebook.save_checkpoint();"
      ],
      "text/plain": [
       "<IPython.core.display.Javascript object>"
      ]
     },
     "metadata": {},
     "output_type": "display_data"
    },
    {
     "name": "stdout",
     "output_type": "stream",
     "text": [
      "Converted ismain.ipynb to /data/zengjianjun/jupyter-ws/git/xs_lib/xs_lib/ismain.py\n",
      "Converted ismain.ipynb to /data/zengjianjun/jupyter-ws/git/xs_lib/tests/test_ismain.py\n"
     ]
    }
   ],
   "source": [
    "common.save_and_export_notebook('ismain')"
   ]
  }
 ],
 "metadata": {
  "kernelspec": {
   "display_name": "Python 3",
   "language": "python",
   "name": "python3"
  },
  "language_info": {
   "codemirror_mode": {
    "name": "ipython",
    "version": 3
   },
   "file_extension": ".py",
   "mimetype": "text/x-python",
   "name": "python",
   "nbconvert_exporter": "python",
   "pygments_lexer": "ipython3",
   "version": "3.7.5"
  },
  "toc": {
   "base_numbering": 1,
   "nav_menu": {},
   "number_sections": true,
   "sideBar": true,
   "skip_h1_title": false,
   "title_cell": "Table of Contents",
   "title_sidebar": "Contents",
   "toc_cell": false,
   "toc_position": {},
   "toc_section_display": true,
   "toc_window_display": false
  },
  "varInspector": {
   "cols": {
    "lenName": 16,
    "lenType": 16,
    "lenVar": 40
   },
   "kernels_config": {
    "python": {
     "delete_cmd_postfix": "",
     "delete_cmd_prefix": "del ",
     "library": "var_list.py",
     "varRefreshCmd": "print(var_dic_list())"
    },
    "r": {
     "delete_cmd_postfix": ") ",
     "delete_cmd_prefix": "rm(",
     "library": "var_list.r",
     "varRefreshCmd": "cat(var_dic_list()) "
    }
   },
   "types_to_exclude": [
    "module",
    "function",
    "builtin_function_or_method",
    "instance",
    "_Feature"
   ],
   "window_display": false
  }
 },
 "nbformat": 4,
 "nbformat_minor": 2
}

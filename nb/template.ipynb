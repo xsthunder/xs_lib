{
 "cells": [
  {
   "cell_type": "code",
   "execution_count": 1,
   "metadata": {
    "ExecuteTime": {
     "end_time": "2020-03-24T16:23:27.854120Z",
     "start_time": "2020-03-24T16:23:27.766157Z"
    }
   },
   "outputs": [],
   "source": [
    "#export\n",
    "import sys\n",
    "if __name__ == '__main__': sys.path.append('..')\n",
    "import xs_lib.common as common"
   ]
  },
  {
   "cell_type": "code",
   "execution_count": 2,
   "metadata": {
    "ExecuteTime": {
     "end_time": "2020-03-24T16:23:27.899082Z",
     "start_time": "2020-03-24T16:23:27.857106Z"
    }
   },
   "outputs": [],
   "source": [
    "#test_export\n",
    "import sure"
   ]
  },
  {
   "cell_type": "markdown",
   "metadata": {},
   "source": [
    "# output"
   ]
  },
  {
   "cell_type": "code",
   "execution_count": null,
   "metadata": {
    "ExecuteTime": {
     "start_time": "2020-03-24T16:23:27.770Z"
    }
   },
   "outputs": [
    {
     "data": {
      "application/javascript": [
       "IPython.notebook.save_checkpoint();"
      ],
      "text/plain": [
       "<IPython.core.display.Javascript object>"
      ]
     },
     "metadata": {},
     "output_type": "display_data"
    },
    {
     "name": "stdout",
     "output_type": "stream",
     "text": [
      "Converted template.ipynb to C:\\Users\\xiaos\\jupyter-ws\\git\\xsthunder-python-lib\\xs_lib\\template.py\n",
      "Converted template.ipynb to C:\\Users\\xiaos\\jupyter-ws\\git\\xsthunder-python-lib\\tests\\test_template.py\n"
     ]
    }
   ],
   "source": [
    "common.save_and_export_notebook('template')"
   ]
  },
  {
   "cell_type": "code",
   "execution_count": null,
   "metadata": {},
   "outputs": [],
   "source": []
  }
 ],
 "metadata": {
  "kernelspec": {
   "display_name": "py3torch-cpu",
   "language": "python",
   "name": "py3torch-cpu"
  },
  "language_info": {
   "codemirror_mode": {
    "name": "ipython",
    "version": 3
   },
   "file_extension": ".py",
   "mimetype": "text/x-python",
   "name": "python",
   "nbconvert_exporter": "python",
   "pygments_lexer": "ipython3",
   "version": "3.7.6"
  }
 },
 "nbformat": 4,
 "nbformat_minor": 2
}

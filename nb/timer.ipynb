{
 "cells": [
  {
   "cell_type": "code",
   "execution_count": 1,
   "metadata": {
    "ExecuteTime": {
     "end_time": "2021-04-08T06:33:03.603090Z",
     "start_time": "2021-04-08T06:33:03.590698Z"
    }
   },
   "outputs": [],
   "source": [
    "#export\n",
    "import sys\n",
    "if __name__ == '__main__': sys.path.append('..')\n",
    "import xs_lib.common as common"
   ]
  },
  {
   "cell_type": "code",
   "execution_count": 2,
   "metadata": {
    "ExecuteTime": {
     "end_time": "2021-04-08T06:33:04.048988Z",
     "start_time": "2021-04-08T06:33:03.941304Z"
    }
   },
   "outputs": [],
   "source": [
    "#test_export\n",
    "import sure"
   ]
  },
  {
   "cell_type": "code",
   "execution_count": 13,
   "metadata": {
    "ExecuteTime": {
     "end_time": "2021-04-08T06:35:35.797928Z",
     "start_time": "2021-04-08T06:35:35.792776Z"
    }
   },
   "outputs": [],
   "source": [
    "#export\n",
    "from datetime import datetime\n",
    "import time\n",
    "import sys\n",
    "def now():return datetime.now()\n",
    "def now_s():\n",
    "    s = datetime.now().isoformat()\n",
    "    return s[:s.index('.')]\n",
    "\n",
    "def timer(slient_mode = False):\n",
    "    \"\"\"\n",
    "    Usage:\n",
    "    time = iter(timer())\n",
    "    next(time) # print\n",
    "    # do something\n",
    "    next(time) # print\n",
    "    printing as spliter\n",
    "    generator, returns (current_timestamp as datetime.datetime, current_timestamp - last_timestamp as datetime.timedelta)\n",
    "    datetime.datetime, datetime.timedelta can be by str()\n",
    "    datetime.timedelta can be add by\n",
    "    \"\"\"\n",
    "    pf = print\n",
    "    def empty_func(*args):\n",
    "        pass\n",
    "    pf = empty_func if slient_mode else print\n",
    "    \n",
    "    def split_by_time(*args):\n",
    "        pf(\"-\"*60 , now_s(), *args)\n",
    "    \n",
    "    split_by_time()\n",
    "    t1 = now()\n",
    "    yield t1, t1 - t1\n",
    "    \n",
    "    while True:\n",
    "        t2 = now()\n",
    "        split_by_time( \"total \" + (t2 - t1).__str__() + \" spent\")\n",
    "        yield t2, t2 - t1\n",
    "        t1 = t2\n",
    "        \n",
    "from time import sleep"
   ]
  },
  {
   "cell_type": "code",
   "execution_count": 18,
   "metadata": {
    "ExecuteTime": {
     "end_time": "2021-04-08T06:38:24.626350Z",
     "start_time": "2021-04-08T06:38:19.617463Z"
    }
   },
   "outputs": [
    {
     "name": "stdout",
     "output_type": "stream",
     "text": [
      "------------------------------------------------------------ 2021-04-08T14:38:19\n",
      "------------------------------------------------------------ 2021-04-08T14:38:21 total 0:00:02.002301 spent\n",
      "------------------------------------------------------------ 2021-04-08T14:38:24 total 0:00:03.003538 spent\n"
     ]
    }
   ],
   "source": [
    "#test_export\n",
    "t = timer()\n",
    "time_tp = next(t)\n",
    "str(time_tp[0]),  str(time_tp[1])\n",
    "sleep(2)\n",
    "time_tp2 = next(t)\n",
    "sleep(3)\n",
    "time_tp3 = next(t)"
   ]
  },
  {
   "cell_type": "code",
   "execution_count": 24,
   "metadata": {
    "ExecuteTime": {
     "end_time": "2021-04-08T06:39:04.806906Z",
     "start_time": "2021-04-08T06:39:04.803252Z"
    }
   },
   "outputs": [
    {
     "data": {
      "text/plain": [
       "True"
      ]
     },
     "execution_count": 24,
     "metadata": {},
     "output_type": "execute_result"
    }
   ],
   "source": [
    "#test_export\n",
    "s = time_tp[1] + time_tp2[1] +  time_tp3[1]\n",
    "s.seconds.should.be(5)"
   ]
  },
  {
   "cell_type": "code",
   "execution_count": 28,
   "metadata": {
    "ExecuteTime": {
     "end_time": "2021-04-08T06:40:03.822732Z",
     "start_time": "2021-04-08T06:39:58.812733Z"
    }
   },
   "outputs": [
    {
     "data": {
      "text/plain": [
       "True"
      ]
     },
     "execution_count": 28,
     "metadata": {},
     "output_type": "execute_result"
    }
   ],
   "source": [
    "#test_export\n",
    "# slient mode\n",
    "t = timer(slient_mode=True)\n",
    "time_tp = next(t)\n",
    "str(time_tp[0]),  str(time_tp[1])\n",
    "sleep(2)\n",
    "time_tp2 = next(t)\n",
    "sleep(3)\n",
    "time_tp3 = next(t)\n",
    "s = time_tp[1] + time_tp2[1] +  time_tp3[1]\n",
    "s.seconds.should.be(5)"
   ]
  },
  {
   "cell_type": "markdown",
   "metadata": {},
   "source": [
    "# output"
   ]
  },
  {
   "cell_type": "code",
   "execution_count": null,
   "metadata": {
    "ExecuteTime": {
     "start_time": "2021-04-08T06:40:07.572Z"
    }
   },
   "outputs": [
    {
     "data": {
      "application/javascript": [
       "IPython.notebook.save_checkpoint();"
      ],
      "text/plain": [
       "<IPython.core.display.Javascript object>"
      ]
     },
     "metadata": {},
     "output_type": "display_data"
    },
    {
     "name": "stdout",
     "output_type": "stream",
     "text": [
      "overwriting /data/zengjianjun/jupyter-ws/git/xs_lib/xs_lib/timer.py\n",
      "Converted timer.ipynb to /data/zengjianjun/jupyter-ws/git/xs_lib/xs_lib/timer.py\n",
      "overwriting /data/zengjianjun/jupyter-ws/git/xs_lib/tests/test_timer.py\n",
      "Converted timer.ipynb to /data/zengjianjun/jupyter-ws/git/xs_lib/tests/test_timer.py\n"
     ]
    }
   ],
   "source": [
    "common.save_and_export_notebook('timer')"
   ]
  },
  {
   "cell_type": "code",
   "execution_count": null,
   "metadata": {},
   "outputs": [],
   "source": []
  }
 ],
 "metadata": {
  "kernelspec": {
   "display_name": "Python 3",
   "language": "python",
   "name": "python3"
  },
  "language_info": {
   "codemirror_mode": {
    "name": "ipython",
    "version": 3
   },
   "file_extension": ".py",
   "mimetype": "text/x-python",
   "name": "python",
   "nbconvert_exporter": "python",
   "pygments_lexer": "ipython3",
   "version": "3.7.5"
  },
  "toc": {
   "base_numbering": 1,
   "nav_menu": {},
   "number_sections": true,
   "sideBar": true,
   "skip_h1_title": false,
   "title_cell": "Table of Contents",
   "title_sidebar": "Contents",
   "toc_cell": false,
   "toc_position": {},
   "toc_section_display": true,
   "toc_window_display": false
  },
  "varInspector": {
   "cols": {
    "lenName": 16,
    "lenType": 16,
    "lenVar": 40
   },
   "kernels_config": {
    "python": {
     "delete_cmd_postfix": "",
     "delete_cmd_prefix": "del ",
     "library": "var_list.py",
     "varRefreshCmd": "print(var_dic_list())"
    },
    "r": {
     "delete_cmd_postfix": ") ",
     "delete_cmd_prefix": "rm(",
     "library": "var_list.r",
     "varRefreshCmd": "cat(var_dic_list()) "
    }
   },
   "types_to_exclude": [
    "module",
    "function",
    "builtin_function_or_method",
    "instance",
    "_Feature"
   ],
   "window_display": false
  }
 },
 "nbformat": 4,
 "nbformat_minor": 2
}
